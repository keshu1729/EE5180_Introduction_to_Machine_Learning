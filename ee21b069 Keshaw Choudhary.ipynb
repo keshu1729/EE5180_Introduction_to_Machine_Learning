{
 "cells": [
  {
   "cell_type": "markdown",
   "metadata": {},
   "source": [
    "# Programming Assignment 1: EE-5180\n",
    "\n",
    "# Keshaw Choudhary EE21B069"
   ]
  },
  {
   "cell_type": "code",
   "execution_count": 38,
   "metadata": {},
   "outputs": [],
   "source": [
    "# importing important modules\n",
    "import numpy as np \n",
    "import matplotlib.pyplot as plt"
   ]
  },
  {
   "cell_type": "markdown",
   "metadata": {},
   "source": [
    "Q1. Suppose that true θ∗ = 2.5 and θ∗0 = 3. For N = 300 input data points of x in range of [1, 5], write a\n",
    "program in python to generate Dataset D."
   ]
  },
  {
   "cell_type": "code",
   "execution_count": 39,
   "metadata": {},
   "outputs": [
    {
     "name": "stdout",
     "output_type": "stream",
     "text": [
      "Dataset D:\n",
      "(1.0, 7.264052345967664)\n",
      "(1.0133779264214047, 5.933602024420735)\n",
      "(1.0267558528428093, 6.545627616212762)\n",
      "(1.040133779264214, 7.841227647361992)\n",
      "(1.0535117056856187, 7.501337254364014)\n"
     ]
    }
   ],
   "source": [
    "# True parameters\n",
    "theta_true = 2.5 #given\n",
    "theta0_true = 3 #given\n",
    "\n",
    "# Number of data points\n",
    "N = 300 #given\n",
    "\n",
    "x = np.linspace(1, 5, N) # Input data points x\n",
    "\n",
    "y_tilde = theta_true * x + theta0_true # Desired output response\n",
    "\n",
    "# Generate some noise for observed output\n",
    "np.random.seed(0) #for better reproducibility\n",
    "noise = np.random.normal(0, 1, N)\n",
    "\n",
    "# Observed output response\n",
    "y_observed = y_tilde + noise\n",
    "\n",
    "dataset_D = list(zip(x, y_observed)) # Dataset D\n",
    "\n",
    "# Printing first 5 data points for verification\n",
    "print(\"Dataset D:\")\n",
    "for i in range(5):\n",
    "    print(dataset_D[i])\n"
   ]
  },
  {
   "cell_type": "markdown",
   "metadata": {},
   "source": [
    "* Explanation :- \n",
    "This code snippet generates a dataset dataset_D consisting of N data points. It first creates input data points x ranging from 1 to 5 with N evenly spaced points. Then, it calculates the desired output response y_tilde using the true parameters theta_true and theta0_true. Some random noise is added to y_tilde to simulate real-world data. Finally, the observed output response y_observed is obtained by adding the noise to y_tilde, and the dataset dataset_D is formed by pairing each input x with its corresponding observed output y_observed.\n"
   ]
  },
  {
   "cell_type": "markdown",
   "metadata": {},
   "source": [
    "Q2. Write a program to compute the total loss function for given dataset D."
   ]
  },
  {
   "cell_type": "code",
   "execution_count": 40,
   "metadata": {},
   "outputs": [
    {
     "name": "stdout",
     "output_type": "stream",
     "text": [
      "Total loss for test parameters: 0.5010804980267981\n"
     ]
    }
   ],
   "source": [
    "def total_loss(theta, theta0, dataset):\n",
    "    total_loss = 0 #Initialize\n",
    "    for xi, y_tilde_i in dataset:\n",
    "        y_pred = theta * xi + theta0\n",
    "        total_loss += (y_pred - y_tilde_i) ** 2\n",
    "    return 0.5 * total_loss / len(dataset)\n",
    "\n",
    "# Example\n",
    "theta_test = 2.5 #given\n",
    "theta0_test = 3 #given\n",
    "print(\"Total loss for test parameters:\", total_loss(theta_test, theta0_test, dataset_D))\n"
   ]
  },
  {
   "cell_type": "markdown",
   "metadata": {},
   "source": [
    "* Explanation :- This code snippet defines a function total_loss(theta, theta0, dataset) that calculates the total loss given parameters theta and theta0 and a dataset. It iterates over each data point in the dataset, calculates the predicted output using the given parameters, computes the squared error between the predicted output and the desired output, and sums up these squared errors. Finally, it returns half of the average of these squared errors, which is the total loss."
   ]
  },
  {
   "cell_type": "markdown",
   "metadata": {},
   "source": [
    "Q3. Compute gradient ∂Li/∂θ and ∂L/∂θ. Write a program to compute the gradient for given dataset D."
   ]
  },
  {
   "cell_type": "code",
   "execution_count": 41,
   "metadata": {},
   "outputs": [
    {
     "name": "stdout",
     "output_type": "stream",
     "text": [
      "Gradient with respect to theta: -0.007594436608695064\n",
      "Gradient with respect to theta0: -0.027529575240886412\n"
     ]
    }
   ],
   "source": [
    "def gradient_theta(theta, theta0, dataset):\n",
    "    grad_theta = 0\n",
    "    for xi, y_tilde_i in dataset:\n",
    "        y_pred = theta * xi + theta0\n",
    "        grad_theta += (y_pred - y_tilde_i) * xi\n",
    "    return grad_theta / len(dataset)\n",
    "\n",
    "def gradient_theta0(theta, theta0, dataset):\n",
    "    grad_theta0 = 0\n",
    "    for xi, y_tilde_i in dataset:\n",
    "        y_pred = theta * xi + theta0\n",
    "        grad_theta0 += (y_pred - y_tilde_i)\n",
    "    return grad_theta0 / len(dataset)\n",
    "\n",
    "# Example\n",
    "theta_test = 2.5 #given\n",
    "theta0_test = 3 #given\n",
    "print(\"Gradient with respect to theta:\", gradient_theta(theta_test, theta0_test, dataset_D))\n",
    "print(\"Gradient with respect to theta0:\", gradient_theta0(theta_test, theta0_test, dataset_D))\n"
   ]
  },
  {
   "cell_type": "markdown",
   "metadata": {},
   "source": [
    "* Explanation :- This code snippet defines two functions gradient_theta(theta, theta0, dataset) and gradient_theta0(theta, theta0, dataset) to compute the gradients of the total loss function with respect to theta and theta0, respectively. These gradients are computed using the formulas derived from the partial derivatives of the loss function. The functions iterate over each data point in the dataset, compute the predicted output, and accumulate the gradients using the error between the predicted and desired outputs. Finally, the accumulated gradients are averaged over all data points and returned."
   ]
  },
  {
   "cell_type": "markdown",
   "metadata": {},
   "source": [
    "Q4. Write program of gradient descent algorithm for iteration T = 10000. Plot the cost function as function\n",
    "of iteration.\n"
   ]
  },
  {
   "cell_type": "code",
   "execution_count": 42,
   "metadata": {},
   "outputs": [
    {
     "data": {
      "image/png": "[encoded data removed]",
      "text/plain": [
       "<Figure size 640x480 with 1 Axes>"
      ]
     },
     "metadata": {},
     "output_type": "display_data"
    }
   ],
   "source": [
    "def gradient_descent(dataset, learning_rate, T):\n",
    "    theta = 0 #Initialize theta\n",
    "    theta0 = 0 #Initialize theta0\n",
    "    costs = [] #Initialize costs list\n",
    "    \n",
    "    for i in range(T):\n",
    "        # Compute gradients\n",
    "        grad_theta = gradient_theta(theta, theta0, dataset)\n",
    "        grad_theta0 = gradient_theta0(theta, theta0, dataset)\n",
    "        \n",
    "        # Update \n",
    "        theta -= learning_rate * grad_theta\n",
    "        theta0 -= learning_rate * grad_theta0\n",
    "        \n",
    "        # Compute total loss and append to costs list\n",
    "        cost = total_loss(theta, theta0, dataset)\n",
    "        costs.append(cost)\n",
    "    \n",
    "    return theta, theta0, costs\n",
    "\n",
    "# Example \n",
    "learning_rate = 0.01\n",
    "T = 10000 #given\n",
    "theta_opt, theta0_opt, costs = gradient_descent(dataset_D, learning_rate, T)\n",
    "\n",
    "# Plot cost function as a function of iteration\n",
    "plt.plot(range(T), costs)\n",
    "plt.xlabel('Iteration')\n",
    "plt.ylabel('Cost')\n",
    "plt.title('Cost Function vs. Iteration')\n",
    "plt.show()\n"
   ]
  },
  {
   "cell_type": "markdown",
   "metadata": {},
   "source": [
    "* Explanation :- This code snippet implements the gradient descent algorithm to optimize the parameters theta and theta0 based on the given dataset. It initializes the parameters to zero and iterates for T iterations. In each iteration, it computes the gradients of the total loss function with respect to theta and theta0, updates the parameters using the gradients and the learning rate, and computes the total loss. The cost for each iteration is stored in a list costs. After T iterations, it returns the optimized parameters and the list of costs. Finally, it plots the cost function as a function of iteration using matplotlib."
   ]
  }
 ],
 "metadata": {
  "kernelspec": {
   "display_name": "Python 3",
   "language": "python",
   "name": "python3"
  },
  "language_info": {
   "codemirror_mode": {
    "name": "ipython",
    "version": 3
   },
   "file_extension": ".py",
   "mimetype": "text/x-python",
   "name": "python",
   "nbconvert_exporter": "python",
   "pygments_lexer": "ipython3",
   "version": "3.9.13"
  }
 },
 "nbformat": 4,
 "nbformat_minor": 2
}
